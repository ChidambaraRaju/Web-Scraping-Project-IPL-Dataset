{
 "cells": [
  {
   "cell_type": "markdown",
   "id": "61a645cd",
   "metadata": {},
   "source": [
    "### 1. Imports:"
   ]
  },
  {
   "cell_type": "code",
   "execution_count": null,
   "id": "f6df5479",
   "metadata": {},
   "outputs": [],
   "source": [
    "import numpy as np\n",
    "import pandas as pd\n",
    "import requests\n",
    "from bs4 import BeautifulSoup\n",
    "from tqdm import tqdm"
   ]
  },
  {
   "cell_type": "markdown",
   "id": "9ee45dc3",
   "metadata": {},
   "source": [
    "### 2. Getting Basic Info:"
   ]
  },
  {
   "cell_type": "code",
   "execution_count": null,
   "id": "bf2257d0",
   "metadata": {},
   "outputs": [],
   "source": [
    "link = 'https://stats.espncricinfo.com/ci/engine/records/team/match_results.html?id=2022;trophy=117;type=season'\n",
    "data = []\n",
    "c=1\n",
    "while(True):\n",
    "    res = requests.get(link)\n",
    "    soup = BeautifulSoup(res.content, 'html.parser')\n",
    "    for match in soup.find('div', class_ = 'div630Pad').find('table').find('tbody').find_all('tr'):\n",
    "        team1 = match.find_all('td')[0].text.strip()\n",
    "        team2 = match.find_all('td')[1].text.strip()\n",
    "        winner = match.find_all('td')[2].text.strip()\n",
    "        margin = match.find_all('td')[3].text.strip()\n",
    "        ground = match.find_all('td')[4].text.strip()\n",
    "        date = match.find_all('td')[5].text.strip()\n",
    "        scorecard_link = 'https://stats.espncricinfo.com'+match.find_all('td')[6].find('a').get('href')\n",
    "        data.append([team1, team2, winner, margin, ground, date, scorecard_link])\n",
    "    link = 'https://stats.espncricinfo.com'+soup.find('p').find('a').get('href')\n",
    "    c+=1\n",
    "    if c == 16:\n",
    "        break"
   ]
  },
  {
   "cell_type": "code",
   "execution_count": null,
   "id": "6af78ceb",
   "metadata": {},
   "outputs": [],
   "source": [
    "df = pd.DataFrame(data, columns = ['team1', 'team2', 'winner', 'margin', 'ground', 'date', 'scorecard_link'])"
   ]
  },
  {
   "cell_type": "code",
   "execution_count": null,
   "id": "0d78af43",
   "metadata": {},
   "outputs": [],
   "source": [
    "df.to_csv('basci_info.csv', index=False)"
   ]
  },
  {
   "cell_type": "markdown",
   "id": "b2a78303",
   "metadata": {},
   "source": [
    "### 3. Scraping Data: "
   ]
  },
  {
   "cell_type": "code",
   "execution_count": null,
   "id": "31643bb5",
   "metadata": {},
   "outputs": [],
   "source": [
    "df = pd.read_csv('basci_info.csv')"
   ]
  },
  {
   "cell_type": "code",
   "execution_count": null,
   "id": "41c082e9",
   "metadata": {},
   "outputs": [],
   "source": [
    "full_data = []\n",
    "for link in tqdm(df['scorecard_link']):\n",
    "    res = requests.get(link)\n",
    "    soup = BeautifulSoup(res.content, 'html.parser')\n",
    "    full_scorecard = link\n",
    "    try:\n",
    "        team1 = soup.find('div', class_ = 'ds-flex ds-space-x-5').find('div', class_ = 'ds-flex ds-flex-col ds-mt-3 md:ds-mt-0 ds-mt-0 ds-mb-1').find_all('div')[1].text.strip()\n",
    "    except:\n",
    "        team1 = np.nan\n",
    "    try:\n",
    "        team1_score = int(soup.find('div', class_ = 'ds-flex ds-space-x-5').find('div', class_ = 'ds-flex ds-flex-col ds-mt-3 md:ds-mt-0 ds-mt-0 ds-mb-1').find_all('div')[2].text.strip().split('/')[0])\n",
    "    except:\n",
    "        team1_score = np.nan\n",
    "    try:\n",
    "        team2 = soup.find('div', class_ = 'ds-flex ds-space-x-5').find('div', class_ = 'ds-flex ds-flex-col ds-mt-3 md:ds-mt-0 ds-mt-0 ds-mb-1').find_all('div')[4].text\n",
    "    except:\n",
    "        team2 = np.nan\n",
    "    try:\n",
    "        team2_score = int(soup.find('div', class_ = 'ds-flex ds-space-x-5').find('div', class_ = 'ds-flex ds-flex-col ds-mt-3 md:ds-mt-0 ds-mt-0 ds-mb-1').find_all('div')[5].text.split(')')[-1].strip().split('/')[0])\n",
    "    except:\n",
    "        team2_score = np.nan\n",
    "    if team1_score == team2_score:\n",
    "        winner = 'Tied'\n",
    "        margin = 'Tied'\n",
    "    else:\n",
    "        winner = soup.find('p', class_ = 'ds-text-tight-m ds-font-regular ds-truncate ds-text-typo').text.strip().split(' ')[0]\n",
    "        margin = soup.find('p', class_ = 'ds-text-tight-m ds-font-regular ds-truncate ds-text-typo').text.strip().split('by')[-1].split('(')[0].strip()\n",
    "    try:\n",
    "        stadium = soup.find_all('table')[4].find_all('tr')[0].text.split(',')[0].strip()\n",
    "    except:\n",
    "        stadium = np.nan\n",
    "    try:\n",
    "        place = soup.find_all('table')[4].find_all('tr')[0].text.split(',')[1].strip()\n",
    "    except:\n",
    "        place = np.nan\n",
    "    try:\n",
    "        toss_winner = soup.find_all('table')[4].find_all('tr')[1].find_all('td')[-1].text.split(',')[0].strip()\n",
    "    except:\n",
    "        toss_winner = np.nan\n",
    "    try:\n",
    "        toss_choice = soup.find_all('table')[4].find_all('tr')[1].find_all('td')[-1].text.split(',')[1].strip()\n",
    "    except:\n",
    "        toss_choice = np.nan\n",
    "    if 'field' in toss_choice:\n",
    "        choice = 'Field'\n",
    "    elif 'bat' in toss_choice:\n",
    "        choice = 'Bat'\n",
    "    try:\n",
    "        man_of_the_match = soup.find_all('table')[4].find_all('tr')[4].find_all('td')[-1].text\n",
    "    except:\n",
    "        man_of_the_match = np.nan\n",
    "    full_data.append([full_scorecard, team1, team2, team1_score, team2_score,toss_winner,choice, winner, margin, \n",
    "                      man_of_the_match,stadium, place])"
   ]
  },
  {
   "cell_type": "markdown",
   "id": "6a3a8b5e",
   "metadata": {},
   "source": [
    "### 4. Converting it into DataFrame:"
   ]
  },
  {
   "cell_type": "code",
   "execution_count": null,
   "id": "aefb9d79",
   "metadata": {},
   "outputs": [],
   "source": [
    "df = pd.DataFrame(full_data, columns = ['full_scorecard', 'team1', 'team2', 'team1_score', 'team2_score','toss_winner','toss_choice', 'winner', 'margin', \n",
    "                      'man_of_the_match','stadium', 'place'])"
   ]
  },
  {
   "cell_type": "markdown",
   "id": "86041826",
   "metadata": {},
   "source": [
    "### 5. Saving it as a .csv File:"
   ]
  },
  {
   "cell_type": "code",
   "execution_count": null,
   "id": "3d201291",
   "metadata": {},
   "outputs": [],
   "source": [
    "df.to_csv('ipl_dataset.csv',index=False)"
   ]
  }
 ],
 "metadata": {
  "kernelspec": {
   "display_name": "Python 3 (ipykernel)",
   "language": "python",
   "name": "python3"
  },
  "language_info": {
   "codemirror_mode": {
    "name": "ipython",
    "version": 3
   },
   "file_extension": ".py",
   "mimetype": "text/x-python",
   "name": "python",
   "nbconvert_exporter": "python",
   "pygments_lexer": "ipython3",
   "version": "3.10.2"
  }
 },
 "nbformat": 4,
 "nbformat_minor": 5
}
